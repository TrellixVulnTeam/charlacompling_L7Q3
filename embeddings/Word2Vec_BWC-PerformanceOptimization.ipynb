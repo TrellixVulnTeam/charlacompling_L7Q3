{
 "cells": [
  {
   "cell_type": "code",
   "execution_count": null,
   "metadata": {},
   "outputs": [],
   "source": [
    "import logging\n",
    "logging.basicConfig(format='%(asctime)s : %(levelname)s : %(message)s', level=logging.INFO)\n",
    "\n",
    "import gensim\n",
    "import sys\n",
    "import os\n",
    "from string import punctuation\n",
    "from gensim.utils import deaccent\n",
    "import utils\n",
    "from multiprocessing import Pool,cpu_count\n",
    "from itertools import chain\n",
    "from pathlib import Path\n",
    "import pickle"
   ]
  },
  {
   "cell_type": "code",
   "execution_count": null,
   "metadata": {},
   "outputs": [],
   "source": [
    "class BillionWordCorpus(object):\n",
    "    def __init__(self, workers=-1, override=True):\n",
    "        self.override = override\n",
    "        self.workers = workers if workers != -1 else cpu_count()\n",
    "        self.dirname = Path(\"../data/clean_corpus/spanish_billion_words\")\n",
    "        self.prepare()\n",
    "    \n",
    "    def prepare(self):\n",
    "        files = [file for file in self.dirname.iterdir() if file.is_file() and \"_preprocessed\" not in str(file)]\n",
    "        logging.getLogger(__name__).info(f\"starting preprocessing with {self.workers} cores\")\n",
    "        \n",
    "        if not self.override:\n",
    "            files = [file for file in files if not os.path.exists(f\"{str(file)}_preprocessed\")]\n",
    "        \n",
    "        logging.getLogger(__name__).info(f\"files to preprocess: {len(files)}\")\n",
    "        \n",
    "        with Pool(self.workers, maxtasksperchild=2) as pool:\n",
    "            pool.map(self.aux, files)\n",
    "        \n",
    "        logging.getLogger(__name__).info(f\"finished preprocessing\")\n",
    "    \n",
    "    @staticmethod\n",
    "    def aux(fname):\n",
    "        logging.getLogger(__name__).info(f\"starting {fname}\")\n",
    "        fname_preprocessed = f\"{fname}_preprocessed\" \n",
    "\n",
    "        with open(fname_preprocessed, 'wb') as f:\n",
    "            with open(fname) as open_file:\n",
    "                for line in open_file:\n",
    "                    line = \"\".join([x for x in line if x not in utils.non_words])\n",
    "                    l = map(lambda x: x.strip().lower(), deaccent(line).split())\n",
    "                    l = [*filter(lambda x: x not in utils.stopwords, l)]\n",
    "                    pickle.dump(l, f, protocol=pickle.HIGHEST_PROTOCOL)\n",
    "\n",
    "        logging.getLogger(__name__).info(f\"finished {fname}\")\n",
    "    \n",
    "    def __iter__(self):\n",
    "        files = [file for file in self.dirname.iterdir() if file.is_file() and \"_preprocessed\" in str(file)]\n",
    "        for f in files:\n",
    "            with open(f, 'rb') as open_file:\n",
    "                while True:\n",
    "                    try:\n",
    "                        my_list = pickle.load(open_file)\n",
    "                        yield my_list\n",
    "                    except EOFError:\n",
    "                        break"
   ]
  },
  {
   "cell_type": "code",
   "execution_count": null,
   "metadata": {},
   "outputs": [],
   "source": [
    "sentences = BillionWordCorpus(override=False)"
   ]
  },
  {
   "cell_type": "code",
   "execution_count": null,
   "metadata": {},
   "outputs": [],
   "source": [
    "override = True\n",
    "if not os.path.exists(\"model_bwc\") or override:\n",
    "#     bigram_transformer = gensim.models.Phrases(sentences)\n",
    "    model_bwc = gensim.models.Word2Vec(sentences, min_count=40, size=300, workers=8, window=5)\n",
    "    model_bwc.save(\"model_bwc\")\n",
    "else:\n",
    "    model_bwc = gensim.models.Word2Vec.load(\"model_bwc\")"
   ]
  },
  {
   "cell_type": "code",
   "execution_count": null,
   "metadata": {},
   "outputs": [],
   "source": [
    "model_bwc.wv.most_similar(positive=[\"rey\",\"mujer\"],negative=[\"hombre\"],topn=1)"
   ]
  },
  {
   "cell_type": "code",
   "execution_count": null,
   "metadata": {},
   "outputs": [],
   "source": [
    "model_bwc.wv.most_similar(positive=[\"roma\",\"francia\"],negative=[\"italia\"], topn=1)"
   ]
  },
  {
   "cell_type": "code",
   "execution_count": null,
   "metadata": {},
   "outputs": [],
   "source": [
    "model_bwc.wv.most_similar(positive=[\"buenos\",\"caballo\"],negative=[\"bueno\"], topn=1)"
   ]
  },
  {
   "cell_type": "code",
   "execution_count": null,
   "metadata": {},
   "outputs": [],
   "source": [
    "model_bwc.wv.most_similar(positive=[\"lindo\",\"bueno\"],negative=[\"feo\"], topn=1)"
   ]
  }
 ],
 "metadata": {
  "kernelspec": {
   "display_name": "Python 3",
   "language": "python",
   "name": "python3"
  },
  "language_info": {
   "codemirror_mode": {
    "name": "ipython",
    "version": 3
   },
   "file_extension": ".py",
   "mimetype": "text/x-python",
   "name": "python",
   "nbconvert_exporter": "python",
   "pygments_lexer": "ipython3",
   "version": "3.6.7"
  }
 },
 "nbformat": 4,
 "nbformat_minor": 2
}
