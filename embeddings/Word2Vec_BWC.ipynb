{
 "cells": [
  {
   "cell_type": "code",
   "execution_count": null,
   "metadata": {},
   "outputs": [],
   "source": [
    "import gensim\n",
    "import sys\n",
    "import os\n",
    "import logging\n",
    "from nltk.corpus import stopwords as nltk_stopwords\n",
    "from string import punctuation\n",
    "from gensim.utils import deaccent\n",
    "logging.basicConfig(format='%(asctime)s : %(levelname)s : %(message)s', level=logging.INFO)\n",
    "from utils import *"
   ]
  },
  {
   "cell_type": "code",
   "execution_count": null,
   "metadata": {},
   "outputs": [],
   "source": [
    "class BillionWordCorpus(object):\n",
    "    def __init__(self):\n",
    "        self.dirname = \"../data/clean_corpus/spanish_billion_words\"\n",
    "        \n",
    "    def __iter__(self):\n",
    "        for fname in os.listdir(self.dirname):\n",
    "            for line in open(os.path.join(self.dirname, fname)):\n",
    "                line = \"\".join([x for x in line if x not in non_words])\n",
    "                l = map(lambda x: x.strip().lower(), deaccent(line).split())\n",
    "                l = [*filter(lambda x: x not in stopwords, l)]\n",
    "                yield l"
   ]
  },
  {
   "cell_type": "code",
   "execution_count": null,
   "metadata": {},
   "outputs": [],
   "source": [
    "override = False\n",
    "if not os.path.exists(\"model_bwc\") or override:\n",
    "    sentences = BillionWordCorpus()\n",
    "    #bigram_transformer = gensim.models.Phrases(sentences)\n",
    "    model_bwc = gensim.models.Word2Vec(sentences, min_count=40, size=300, workers=8, window=5)\n",
    "    model_bwc.save(\"model_bwc\")\n",
    "else:\n",
    "    model_bwc = gensim.models.Word2Vec.load(\"model_bwc\")"
   ]
  },
  {
   "cell_type": "code",
   "execution_count": null,
   "metadata": {},
   "outputs": [],
   "source": [
    "model_bwc.wv.most_similar(positive=[\"rey\",\"mujer\"],negative=[\"hombre\"],topn=1)"
   ]
  },
  {
   "cell_type": "code",
   "execution_count": null,
   "metadata": {},
   "outputs": [],
   "source": [
    "model_bwc.wv.most_similar(positive=[\"roma\",\"francia\"],negative=[\"italia\"], topn=1)"
   ]
  },
  {
   "cell_type": "code",
   "execution_count": null,
   "metadata": {},
   "outputs": [],
   "source": [
    "model_bwc.wv.most_similar(positive=[\"buenos\",\"caballo\"],negative=[\"bueno\"], topn=1)"
   ]
  },
  {
   "cell_type": "code",
   "execution_count": null,
   "metadata": {},
   "outputs": [],
   "source": [
    "model_bwc.wv.most_similar(positive=[\"lindo\",\"bueno\"],negative=[\"feo\"], topn=1)"
   ]
  }
 ],
 "metadata": {
  "kernelspec": {
   "display_name": "Python 3",
   "language": "python",
   "name": "python3"
  },
  "language_info": {
   "codemirror_mode": {
    "name": "ipython",
    "version": 3
   },
   "file_extension": ".py",
   "mimetype": "text/x-python",
   "name": "python",
   "nbconvert_exporter": "python",
   "pygments_lexer": "ipython3",
   "version": "3.6.7"
  }
 },
 "nbformat": 4,
 "nbformat_minor": 2
}
