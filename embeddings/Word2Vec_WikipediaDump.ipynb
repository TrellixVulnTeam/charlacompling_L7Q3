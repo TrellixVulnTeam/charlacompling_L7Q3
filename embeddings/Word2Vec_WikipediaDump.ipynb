{
 "cells": [
  {
   "cell_type": "code",
   "execution_count": null,
   "metadata": {},
   "outputs": [],
   "source": [
    "import gensim\n",
    "import sys\n",
    "import os\n",
    "import logging\n",
    "from string import punctuation\n",
    "from gensim.utils import deaccent\n",
    "from nltk.corpus import stopwords as nltk_stopwords\n",
    "logging.basicConfig(format='%(asctime)s : %(levelname)s : %(message)s', level=logging.INFO)"
   ]
  },
  {
   "cell_type": "code",
   "execution_count": null,
   "metadata": {},
   "outputs": [],
   "source": [
    "from utils import *"
   ]
  },
  {
   "cell_type": "code",
   "execution_count": null,
   "metadata": {},
   "outputs": [],
   "source": [
    "class WikiDump(object):\n",
    "    def __init__(self):\n",
    "        self.dumpfile = \"../data/es_wiki_text/es/full.txt\"\n",
    " \n",
    "    def __iter__(self):\n",
    "        for line in open(self.dumpfile):\n",
    "            #line = \"\".join([x for x in line.decode('latin-1') if x not in self.non_words])\n",
    "            #l = map(lambda x: x.strip().lower(), deaccent(line).split())\n",
    "            #l = filter(lambda x: x not in self.stopwords, l)\n",
    "            \n",
    "            yield flatten(tokenize(line))"
   ]
  },
  {
   "cell_type": "code",
   "execution_count": null,
   "metadata": {},
   "outputs": [],
   "source": [
    "override = False\n",
    "if not os.path.exists('w2v_wd') or override:\n",
    "    sentences = WikiDump()\n",
    "    #bigram_transformer = gensim.models.Phrases(sentences)\n",
    "    model_wd = gensim.models.Word2Vec(sentences, min_count=10, size=300, workers=8,window=5)\n",
    "    model_wd.save(\"w2v_wd\")\n",
    "else:\n",
    "    model_wd = gensim.models.Word2Vec.load(\"w2v_wd\")"
   ]
  },
  {
   "cell_type": "code",
   "execution_count": null,
   "metadata": {},
   "outputs": [],
   "source": [
    "model_wd.wv.most_similar(positive=[\"rey\",\"mujer\"],negative=[\"hombre\"])"
   ]
  },
  {
   "cell_type": "code",
   "execution_count": null,
   "metadata": {},
   "outputs": [],
   "source": [
    "model_wd.wv.most_similar(positive=[\"roma\",\"argentina\"],negative=[\"italia\"])"
   ]
  },
  {
   "cell_type": "code",
   "execution_count": null,
   "metadata": {},
   "outputs": [],
   "source": [
    "model_wd.wv.most_similar(positive=[\"buenos\",\"caballo\"],negative=[\"bueno\"])"
   ]
  },
  {
   "cell_type": "code",
   "execution_count": null,
   "metadata": {},
   "outputs": [],
   "source": [
    "model_wd.wv.most_similar(positive=[\"lindo\",\"bueno\"],negative=[\"feo\"])"
   ]
  },
  {
   "cell_type": "code",
   "execution_count": null,
   "metadata": {},
   "outputs": [],
   "source": [
    "model_wd.wv.most_similar(positive=[\"pastillas\"])"
   ]
  },
  {
   "cell_type": "code",
   "execution_count": null,
   "metadata": {},
   "outputs": [],
   "source": [
    "model_wd.wv.most_similar(positive=[\"gotas\"])"
   ]
  },
  {
   "cell_type": "code",
   "execution_count": null,
   "metadata": {},
   "outputs": [],
   "source": [
    "model_wd.wv.most_similar(positive=[\"whisky\"])"
   ]
  },
  {
   "cell_type": "code",
   "execution_count": null,
   "metadata": {},
   "outputs": [],
   "source": [
    "model_wd.wv.most_similar(positive=[\"fruta\"])"
   ]
  },
  {
   "cell_type": "code",
   "execution_count": null,
   "metadata": {},
   "outputs": [],
   "source": [
    "model_wd.wv.most_similar(positive=[\"banana\"])"
   ]
  }
 ],
 "metadata": {
  "kernelspec": {
   "display_name": "Python 3",
   "language": "python",
   "name": "python3"
  },
  "language_info": {
   "codemirror_mode": {
    "name": "ipython",
    "version": 3
   },
   "file_extension": ".py",
   "mimetype": "text/x-python",
   "name": "python",
   "nbconvert_exporter": "python",
   "pygments_lexer": "ipython3",
   "version": "3.6.7"
  }
 },
 "nbformat": 4,
 "nbformat_minor": 2
}
